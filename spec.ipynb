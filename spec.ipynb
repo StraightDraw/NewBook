{
 "cells": [
  {
   "cell_type": "markdown",
   "id": "1ded8339-04c7-4212-85ae-ea78f320dbf0",
   "metadata": {},
   "source": [
    "# Special Content Blocks"
   ]
  },
  {
   "cell_type": "markdown",
   "id": "591cc961-6e6c-4ce3-a681-55f0b321d5f8",
   "metadata": {},
   "source": [
    "This group of pages hope to offer some insights into the look and feel avaiable using only design elements in the basic Jupyter-books package. We can do more, surely, we don't often need to given the **special content** already provided. Below, we show a few examples of output with the code that creates it."
   ]
  },
  {
   "cell_type": "markdown",
   "id": "1aedee3f-2d99-492e-a8f2-dbe11cdcdf70",
   "metadata": {},
   "source": [
    "## Notes, Tip and Warnings"
   ]
  },
  {
   "cell_type": "markdown",
   "id": "eb6a4cc4-8214-469a-8720-2489e2484587",
   "metadata": {},
   "source": [
    "Want to give a \"watch out\" warning on a tricky problem? Try these:\n",
    "\n",
    "We can highlight a **warning** to our students like this."
   ]
  },
  {
   "cell_type": "markdown",
   "id": "45326345-bcd7-40a8-9383-2a81cdd59027",
   "metadata": {},
   "source": [
    "```{warning}\n",
    "Be careful here.\n",
    "```"
   ]
  },
  {
   "cell_type": "markdown",
   "id": "66dfdb89-7cc4-4483-8f0a-7a0e893c04eb",
   "metadata": {},
   "source": [
    "A **tip** will highlight information or show students an easier way to proceed."
   ]
  },
  {
   "cell_type": "markdown",
   "id": "a3d3893b-0ca8-423d-bd9c-28dc8fe0cd8c",
   "metadata": {},
   "source": [
    "```{tip}\n",
    "Here's a tip for you.\n",
    "```"
   ]
  },
  {
   "cell_type": "markdown",
   "id": "493d3798-14c0-4da6-8e3c-3bd7f6ea87a7",
   "metadata": {},
   "source": [
    "Any other information we wish to highlight can become a **note**."
   ]
  },
  {
   "cell_type": "markdown",
   "id": "65012ab5-3145-42ec-b184-cca15bb01d13",
   "metadata": {},
   "source": [
    "```{note}\n",
    "Just a quick note to remind you.\n",
    "```"
   ]
  }
 ],
 "metadata": {
  "kernelspec": {
   "display_name": "Python 3 (ipykernel)",
   "language": "python",
   "name": "python3"
  },
  "language_info": {
   "codemirror_mode": {
    "name": "ipython",
    "version": 3
   },
   "file_extension": ".py",
   "mimetype": "text/x-python",
   "name": "python",
   "nbconvert_exporter": "python",
   "pygments_lexer": "ipython3",
   "version": "3.13.1"
  }
 },
 "nbformat": 4,
 "nbformat_minor": 5
}
