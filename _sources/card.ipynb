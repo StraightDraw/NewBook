{
 "cells": [
  {
   "cell_type": "markdown",
   "id": "3d667b5c-ba42-4dd6-b711-bfd1edb7c64c",
   "metadata": {},
   "source": [
    "# Cards\n",
    "\n",
    "A great way to gain more control of the tables in MyST and display information groupings that would otherwise be difficult to highlight. Our first example will show the **card** environment."
   ]
  },
  {
   "cell_type": "markdown",
   "id": "4745b845-669d-4615-a9d4-52f2603d3dff",
   "metadata": {},
   "source": [
    ":::{card} Card Title\n",
    "Header\n",
    "^^^\n",
    "Card content\n",
    "+++\n",
    "Footer\n",
    ":::"
   ]
  },
  {
   "cell_type": "markdown",
   "id": "2e622db8-c887-4a28-ba61-7864c9caffa2",
   "metadata": {},
   "source": [
    "Cards are quite useful at times. Also, check out other similar content displays such as [drop downs, buttons and tabs](https://mystmd.org/guide/dropdowns-cards-and-tabs). Below, we combine the **grid** environment with cards."
   ]
  },
  {
   "cell_type": "markdown",
   "id": "df6b161f-bafe-4803-8615-b975939dedab",
   "metadata": {},
   "source": [
    "::::{grid} 1 1 2 3\n",
    "\n",
    ":::{card}\n",
    "**Header Text 1**\n",
    "\n",
    "This is the content text for Card 1.\n",
    ":::\n",
    "\n",
    ":::{card}\n",
    "**Header Text 2**\n",
    "\n",
    "This is the content text for Card 2.\n",
    ":::\n",
    "\n",
    ":::{card}\n",
    "**Header Text 3**\n",
    "\n",
    "This is the content text for Card 3.\n",
    ":::\n",
    "::::"
   ]
  }
 ],
 "metadata": {
  "kernelspec": {
   "display_name": "Python 3 (ipykernel)",
   "language": "python",
   "name": "python3"
  },
  "language_info": {
   "codemirror_mode": {
    "name": "ipython",
    "version": 3
   },
   "file_extension": ".py",
   "mimetype": "text/x-python",
   "name": "python",
   "nbconvert_exporter": "python",
   "pygments_lexer": "ipython3",
   "version": "3.13.1"
  }
 },
 "nbformat": 4,
 "nbformat_minor": 5
}
