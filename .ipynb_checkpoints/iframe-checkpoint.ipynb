{
 "cells": [
  {
   "cell_type": "markdown",
   "id": "6bc93f4c-658c-4da9-a113-30d98789bfed",
   "metadata": {},
   "source": [
    "# iFrame\n",
    "\n",
    "We can use iFrame to embed **geogebra** drawings and animations directly into our Jupyter Books. Also, we can do the same in D2L."
   ]
  },
  {
   "cell_type": "markdown",
   "id": "1c3c5379-8dc3-4f55-88d0-4d54f0fb823e",
   "metadata": {},
   "source": [
    "Below, we find an animation related to the handshake problem. If 8 people enter a room, and everyone in the room shakes hand with everyone else in the room, how many handshakes occur?"
   ]
  },
  {
   "cell_type": "markdown",
   "id": "fa61a3fa-bc48-4168-aea3-a8c7d555e82b",
   "metadata": {},
   "source": [
    "## Handshake Problem Animation"
   ]
  },
  {
   "cell_type": "markdown",
   "id": "3336540a-4c46-44a7-ac29-d904f6603767",
   "metadata": {},
   "source": [
    "<iframe scrolling=\"no\" title=\"Handshakes8\" src=\"https://www.geogebra.org/material/iframe/id/brqxg6um/width/1344/height/758/border/888888/sfsb/true/smb/false/stb/false/stbh/false/ai/false/asb/false/sri/false/rc/false/ld/false/sdz/false/ctl/false\" width=\"672px\" height=\"379px\" style=\"border:2px;\"> </iframe>"
   ]
  }
 ],
 "metadata": {
  "kernelspec": {
   "display_name": "Python 3 (ipykernel)",
   "language": "python",
   "name": "python3"
  },
  "language_info": {
   "codemirror_mode": {
    "name": "ipython",
    "version": 3
   },
   "file_extension": ".py",
   "mimetype": "text/x-python",
   "name": "python",
   "nbconvert_exporter": "python",
   "pygments_lexer": "ipython3",
   "version": "3.13.1"
  }
 },
 "nbformat": 4,
 "nbformat_minor": 5
}
