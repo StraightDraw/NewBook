{
 "cells": [
  {
   "cell_type": "markdown",
   "id": "83aa8946-76fe-43ac-a44b-1d4457df1739",
   "metadata": {},
   "source": [
    "# Hyperlinks and Definitions"
   ]
  },
  {
   "cell_type": "markdown",
   "id": "8ee612dd-8b0c-4639-844b-fe1ddce9a192",
   "metadata": {},
   "source": [
    "Using hyperlinks can seamlessly connect students to additional information that we created or that someone else has posted to the interwebs. We also want to show some pages that use the tools we've been discussing."
   ]
  },
  {
   "cell_type": "markdown",
   "id": "6279eb4e-eaf4-441f-968b-8e7ec9802eeb",
   "metadata": {},
   "source": [
    "## Great Example Page\n",
    "\n",
    "An early page from my [Linear Algebra Notes](https://straightdraw.github.io/Linear/ch1/2.html) showing LaTeX mathematics, sidebar content along with *tips*, *hints* and *warnings*. "
   ]
  },
  {
   "cell_type": "markdown",
   "id": "9590b805-d47c-4858-b8a2-fdfdbd942aad",
   "metadata": {},
   "source": [
    "## Example of Using **Cards**\n",
    "\n",
    "Tables can be difficult to format in MyST when displaying complicated information. However, learning to use **cards** provides a solid workaround for many situations. The need for a Euclidean parallel postulate is demonstrated on one of my [College Geomtery course pages](https://straightdraw.github.io/Geometry/3EG/E0.html). The first column called **Neutral Geometry** shows what can proven *without* a parallelism axiom. The second column called **Euclidean Geometry** shows what additional theorems can proven *with* a parallelism axiom."
   ]
  },
  {
   "cell_type": "markdown",
   "id": "d4c923d9-ce1c-4979-8037-02750bd695c4",
   "metadata": {},
   "source": [
    "## Definitions and the *prf* Environment\n",
    "\n",
    "MyST has a **prf** environment the documentation for which is [linked here](https://sphinx-proof.readthedocs.io/en/latest/syntax.html#proofs). The **prf** environment provides display options for:\n",
    "- Axioms\n",
    "- Theorems\n",
    "- Lemmas\n",
    "- Definitions\n",
    "\n",
    "Happily, the **prf** package numbers the items in each list for easy reference later in the document. Also, several theorems can be presented in one page without confusion."
   ]
  },
  {
   "cell_type": "markdown",
   "id": "041e4d92-a5cf-4abe-9c82-3d4d4cde5311",
   "metadata": {},
   "source": [
    "````{prf:definition}\n",
    ":label: my-definition\n",
    "\n",
    "An **isosceles triangle** is a triangle with 2 congruent sides.\n",
    "````"
   ]
  },
  {
   "cell_type": "markdown",
   "id": "80bf817d-271d-4d73-8d55-a0cc60cd544a",
   "metadata": {},
   "source": [
    "Let's have an example of a **theorem**, too."
   ]
  },
  {
   "cell_type": "markdown",
   "id": "77e1de42-1826-4ab2-b3bf-213906be65dc",
   "metadata": {},
   "source": [
    "````{prf:theorem} Pythagorean Theorem\n",
    ":label: my-theorem\n",
    "\n",
    "Given a triangle with legs $a$ and $b$ and longest side $c$ (called the hypotenuse), the triangle is a right triangle if and only if\n",
    "```{math}\n",
    "a^2 + b^2 = c^2\n",
    "```\n",
    "````"
   ]
  },
  {
   "cell_type": "markdown",
   "id": "031c9d0b-29ee-44ff-95ff-2e8d92916411",
   "metadata": {},
   "source": [
    "Additional information and examples are available:\n",
    "- [Hyperlinks](https://myst-parser.readthedocs.io/en/latest/syntax/reference.html#commonmark-inline-tokens)\n",
    "- [The **prf** Environment](https://sphinx-proof.readthedocs.io/en/latest/syntax.html)"
   ]
  }
 ],
 "metadata": {
  "kernelspec": {
   "display_name": "Python 3 (ipykernel)",
   "language": "python",
   "name": "python3"
  },
  "language_info": {
   "codemirror_mode": {
    "name": "ipython",
    "version": 3
   },
   "file_extension": ".py",
   "mimetype": "text/x-python",
   "name": "python",
   "nbconvert_exporter": "python",
   "pygments_lexer": "ipython3",
   "version": "3.13.1"
  }
 },
 "nbformat": 4,
 "nbformat_minor": 5
}
