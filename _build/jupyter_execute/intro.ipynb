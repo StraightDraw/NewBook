{
 "cells": [
  {
   "cell_type": "markdown",
   "id": "3841d0d5-66cb-41c3-a38c-b17bd3bb6338",
   "metadata": {},
   "source": [
    "# Jupyter-books for Mathematics"
   ]
  },
  {
   "cell_type": "markdown",
   "id": "e9b9b0d0-f22c-4c62-b7f6-8720e0210026",
   "metadata": {},
   "source": [
    "Jupyter-books is a simple editor that allows one to create eye-catching content and host it online. Created by programmers interested in data science, Jupyter-books provides a hugely customizable platform for any STEM discipline -- and other disciplines, too. Mathematicians can repurpose this teaching and coding environment specifically for the content needed in their classes."
   ]
  },
  {
   "cell_type": "markdown",
   "id": "73ffc9dd-d3d2-4b83-8db1-4fa2e10a9de4",
   "metadata": {},
   "source": [
    "This Jupyter-book explains how the interested mathematician can get started. Before that, let's ask the question: Why would a mathematician **want to get started**? The answers include:\n",
    "```{sidebar} Sidebar\n",
    "Professional graphics like this sibebar are enabled easily.\n",
    "```\n",
    "- Helping students.\n",
    "- Saving the instructor's time.\n",
    "- The editing environment includes LaTeX.\n",
    "- A python engine will evalate and display answers to items like:"
   ]
  },
  {
   "cell_type": "markdown",
   "id": "3f3604b4-3857-4433-bfa5-911acee87b2d",
   "metadata": {},
   "source": [
    "$$cos(\\pi)\\hspace{8mm}ln(7)\\hspace{8mm}\\sum_0^{10} x^2$$"
   ]
  },
  {
   "cell_type": "markdown",
   "id": "6190a166-c3a5-4042-8219-8ae61dbf5a1f",
   "metadata": {},
   "source": [
    "- Myst markdown is LaTeX-ready and makes editing easy with special content blocks:\n",
    "  - Hints\n",
    "  - Warnings\n",
    "  - Notes\n",
    "  - Cards\n",
    "  - Sidebars"
   ]
  },
  {
   "cell_type": "markdown",
   "id": "015c6c26-a0b6-404a-b407-5ebc8a3c4c03",
   "metadata": {},
   "source": [
    "```{Note}\n",
    "Below, we show the python engine acting as a calculator. First, we need some initial code to setup python correctly for the calculations.\n",
    "```"
   ]
  },
  {
   "cell_type": "code",
   "execution_count": 1,
   "id": "fe5e18d5-70bf-4bd3-8d7e-8eb355b75bb9",
   "metadata": {},
   "outputs": [],
   "source": [
    "import numpy as np\n",
    "import scipy.stats as stats"
   ]
  },
  {
   "cell_type": "markdown",
   "id": "dc685a65-a22d-482f-92ea-635dc43b517d",
   "metadata": {},
   "source": [
    "```{Tip}\n",
    "Always import numpy for scientific functions and scipy.stats for all statistical functions and tests (t-tests, ANOVA, chi-squared, and so on).\n",
    "```"
   ]
  },
  {
   "cell_type": "code",
   "execution_count": 2,
   "id": "99c4ee99-0005-459b-9474-546e131819d7",
   "metadata": {},
   "outputs": [
    {
     "data": {
      "text/plain": [
       "np.float64(0.8660254037844387)"
      ]
     },
     "execution_count": 2,
     "metadata": {},
     "output_type": "execute_result"
    }
   ],
   "source": [
    "np.cos(np.pi/6)"
   ]
  },
  {
   "cell_type": "code",
   "execution_count": 3,
   "id": "96d32632-941f-47f9-beb2-3a52518ecd2c",
   "metadata": {},
   "outputs": [
    {
     "data": {
      "text/plain": [
       "np.float64(1.9459101490553132)"
      ]
     },
     "execution_count": 3,
     "metadata": {},
     "output_type": "execute_result"
    }
   ],
   "source": [
    "# Python's log function defaults to the natural log, not the common log.\n",
    "np.log(7)"
   ]
  },
  {
   "cell_type": "code",
   "execution_count": 4,
   "id": "4b30e497-1878-408d-ae9d-bad8ed31f02e",
   "metadata": {},
   "outputs": [
    {
     "data": {
      "text/plain": [
       "np.int64(285)"
      ]
     },
     "execution_count": 4,
     "metadata": {},
     "output_type": "execute_result"
    }
   ],
   "source": [
    "sum(np.arange(10)**2)"
   ]
  }
 ],
 "metadata": {
  "kernelspec": {
   "display_name": "Python 3 (ipykernel)",
   "language": "python",
   "name": "python3"
  },
  "language_info": {
   "codemirror_mode": {
    "name": "ipython",
    "version": 3
   },
   "file_extension": ".py",
   "mimetype": "text/x-python",
   "name": "python",
   "nbconvert_exporter": "python",
   "pygments_lexer": "ipython3",
   "version": "3.13.1"
  }
 },
 "nbformat": 4,
 "nbformat_minor": 5
}