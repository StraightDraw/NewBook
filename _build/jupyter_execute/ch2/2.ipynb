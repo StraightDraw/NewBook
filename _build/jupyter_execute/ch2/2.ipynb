{
 "cells": [
  {
   "cell_type": "markdown",
   "metadata": {},
   "source": [
    "# 2.2 Different Engines in JupyterBooks"
   ]
  },
  {
   "cell_type": "markdown",
   "metadata": {},
   "source": [
    "The three programs (engines) in the name Jupyter are Julie, Python and R. For data science, Python and R are by far the most popular choices over the past few years. But mathematicians may prefer using other engines that produce the same features as Mathematica, Maple and MATLAB. This section is about how to install engines for MATLAB and SciLab, two math-science programming languages that support courses from programming to physics, math to chemistry, calculus to PDE's, linear algebra to numerical analysis."
   ]
  }
 ],
 "metadata": {
  "kernelspec": {
   "display_name": "Python 3",
   "language": "python",
   "name": "python3"
  },
  "language_info": {
   "codemirror_mode": {
    "name": "ipython",
    "version": 3
   },
   "file_extension": ".py",
   "mimetype": "text/x-python",
   "name": "python",
   "nbconvert_exporter": "python",
   "pygments_lexer": "ipython3",
   "version": "3.8.5"
  }
 },
 "nbformat": 4,
 "nbformat_minor": 4
}