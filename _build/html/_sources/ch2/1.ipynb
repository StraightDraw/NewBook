{
 "cells": [
  {
   "cell_type": "markdown",
   "metadata": {},
   "source": [
    "# 2.1 Embedding using `<iframe>`"
   ]
  },
  {
   "cell_type": "markdown",
   "metadata": {},
   "source": [
    "Embedding YouTube videos using the `<iframe>` tag is easy. Just go to [YouTube](YouTube.com) and start playing your video. At the bottom, click share, and the entire `<iframe>` code you need is in the pop-up window complete with a \"copy\" button. Paste that code in between two paragraphs of text with a blank line above and below, and viola!"
   ]
  },
  {
   "cell_type": "markdown",
   "metadata": {},
   "source": [
    "For Geogebra animations, life is good, but it takes a bit more work. Here's the animation I'll work with.\n",
    "\n",
    "<iframe scrolling=\"no\" title=\"Convex\" src=\"https://www.geogebra.org/material/iframe/id/yevmvetn/width/1280/height/360/border/888888/rc/false/ai/false/sdz/true/smb/false/stb/false/stbh/false/ld/false/sri/false/ctl/false/sfsb/true/szb/false/\" width=\"100%\" height=\"100%\" style=\"display:block;\" allowfullscreen=\"\"> </iframe>\n",
    "\n",
    "````{margin}\n",
    "```{seealso}\n",
    "Check out Geogebra.org's help center where they explain each codeword option below and what features it controls: [Embedding Using `<iframe>`](https://wiki.geogebra.org/en/Reference:Material_Embedding_(Iframe))\n",
    "```\n",
    "````\n",
    "\n",
    "## Code for the Imbedding\n",
    "\n",
    "Below, we have a URL inside quotes. I have broken it across multiple lines to explain what parts mean what.\n",
    "\n",
    "```\n",
    "<iframe scrolling=\"no\" title=\"Convex\"\n",
    "src=\"https://www.geogebra.org/material/iframe/id/yevmvetn/\n",
    "width/1280/height/360/border/888888/\n",
    "rc/false/\n",
    "ai/false/\n",
    "sdz/true/\n",
    "smb/false/\n",
    "stb/false/\n",
    "stbh/false/\n",
    "ld/false/\n",
    "sri/false/\n",
    "ctl/false/ \n",
    "sfsb/true/\n",
    "szb/false\"\n",
    "width=\"100%\" height=\"100%\" style=\"display:block;\" allowfullscreen=\"\"> </iframe>\n",
    "```\n",
    "\n"
   ]
  },
  {
   "cell_type": "markdown",
   "metadata": {},
   "source": [
    "## Explanations\n",
    "\n",
    "There is an 8-letter ID for each Geogebra drawing shown at the end of the code block below. To create a new embedding, just copy-paste one that you already got to work.\n",
    "\n",
    "```\n",
    "src=\"https://www.geogebra.org/material/iframe/id/yevmvetn/\n",
    "```\n",
    "\n",
    "Choose your height and width to match what your drew. This takes some exprimenting. Geogebra starts at the Top-Left corner of your drawing window and expands the \"width\" number of pixels right and \"height\" number of pixels down. Play around with these unitl you get zoomed in on exactly what you want to show.\n",
    "\n",
    "```\n",
    "width/1280/height/360/border/888888/\n",
    "```\n",
    "\n",
    "The width and height options at the **end** of the `<iframe>` call are what determine how it displays. Use percents to keep it mobile-optimized. Things can get funky if you try using something different than 100%. You'll have to have someone else tell you why.\n",
    "\n",
    "The 8's at the end are a color code in hexadecimal allowing to set the border color. Here are the options. You can see my preferences above.\n",
    "\n",
    "rc\n",
    ": Right-click enabled\n",
    "\n",
    "ai\n",
    ": Allow input bar\n",
    "\n",
    "sdz\n",
    ": Shift-drag and zoom enabled\n",
    "\n",
    "smb\n",
    ": Show menu bar\n",
    "\n",
    "stb\n",
    ": Show tool bar\n",
    "\n",
    "stbh\n",
    ": Show tool bar help\n",
    "\n",
    "ld\n",
    ": Label-dragging enabled\n",
    "\n",
    "sri\n",
    ": Show reset icon top-right\n",
    "\n",
    "ctl\n",
    ": Enabled play button to start animation. If set to false, animation starts automatically.\n",
    "````{margin}\n",
    "```{warning}\n",
    "If you set \"show full-screen button\" to true, make sure to put an `allowfullscreen` in your `<iframe>` call, too.\n",
    "```\n",
    "````\n",
    "\n",
    "sfsb\n",
    ": Show full-screen button\n",
    "\n",
    "szb\n",
    ": Show zoom buttons\n",
    "\n",
    "## Why is there Five Inches of White Space below my `<iframe>`?\n",
    "\n",
    "That's the purpose of this happy little piece of the call. For whatever reason, the default puts a **ton** of white space below an embedding, and this piece of code is just the ticket.\n",
    "\n",
    "```\n",
    "style=\"display:block;\"\n",
    "```"
   ]
  }
 ],
 "metadata": {
  "kernelspec": {
   "display_name": "Python 3",
   "language": "python",
   "name": "python3"
  },
  "language_info": {
   "codemirror_mode": {
    "name": "ipython",
    "version": 3
   },
   "file_extension": ".py",
   "mimetype": "text/x-python",
   "name": "python",
   "nbconvert_exporter": "python",
   "pygments_lexer": "ipython3",
   "version": "3.8.5"
  }
 },
 "nbformat": 4,
 "nbformat_minor": 4
}
